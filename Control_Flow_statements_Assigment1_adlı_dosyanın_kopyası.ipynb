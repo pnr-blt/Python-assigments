{
  "nbformat": 4,
  "nbformat_minor": 0,
  "metadata": {
    "colab": {
      "name": "Control Flow statements-Assigment1 adlı dosyanın kopyası",
      "provenance": [],
      "authorship_tag": "ABX9TyOPvSz8wFrCdfgegRPRdLlD",
      "include_colab_link": true
    },
    "kernelspec": {
      "name": "python3",
      "display_name": "Python 3"
    },
    "language_info": {
      "name": "python"
    }
  },
  "cells": [
    {
      "cell_type": "markdown",
      "metadata": {
        "id": "view-in-github",
        "colab_type": "text"
      },
      "source": [
        "<a href=\"https://colab.research.google.com/github/pnr-blt/Python-assigments/blob/main/Control_Flow_statements_Assigment1_adl%C4%B1_dosyan%C4%B1n_kopyas%C4%B1.ipynb\" target=\"_parent\"><img src=\"https://colab.research.google.com/assets/colab-badge.svg\" alt=\"Open In Colab\"/></a>"
      ]
    },
    {
      "cell_type": "markdown",
      "metadata": {
        "id": "YM_DiR-d0y0j"
      },
      "source": [
        "Task : Estimating the risk of death from coronavirus. Write a program that;\n",
        "\n",
        "Takes \"Yes\" or \"No\" from the user as an answer to the following questions :\n",
        "\n",
        "Are you a cigarette addict older than 75 years old? Variable → age\n",
        "\n",
        "Do you have a severe chronic disease? Variable → chronic\n",
        "\n",
        "Is your immune system too weak? Variable → immune\n",
        "\n",
        "Set a logical algorithm using boolean logic operators (and/or) and use if-statements with the given variables in order to print out us a message : \"You are in risky group\"(if True ) or \"You are not in risky group\" (if False)."
      ]
    },
    {
      "cell_type": "code",
      "metadata": {
        "colab": {
          "base_uri": "https://localhost:8080/"
        },
        "id": "Q-Nm_0RK00u3",
        "outputId": "ce63e490-58a2-4e2f-f8af-43933582373a"
      },
      "source": [
        "age = input(\"Are you a cigarette addict older than 75 years old? :\").title()\n",
        "chronic = input(\"Do you have a severe chronic disease? :\").title()\n",
        "immune = input(\"Is your immune system too weak? :\").title()\n",
        "Yes = True\n",
        "No = False\n",
        "if age or immune or chronic == True :\n",
        "  print(\"You are in risky group\") \n",
        "else :\n",
        "  print(\"You are not in risky group\")\n",
        "\n"
      ],
      "execution_count": null,
      "outputs": [
        {
          "output_type": "stream",
          "text": [
            "Are you a cigarette addict older than 75 years old? :yes\n",
            "Do you have a severe chronic disease? :no\n",
            "Is your immune system too weak? :no\n",
            "You are in risky group\n"
          ],
          "name": "stdout"
        }
      ]
    },
    {
      "cell_type": "code",
      "metadata": {
        "id": "XCCcHUH8-qov"
      },
      "source": [
        ""
      ],
      "execution_count": null,
      "outputs": []
    }
  ]
}