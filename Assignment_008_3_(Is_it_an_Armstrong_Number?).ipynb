{
  "nbformat": 4,
  "nbformat_minor": 0,
  "metadata": {
    "colab": {
      "name": "Assignment-008/3 (Is it an Armstrong Number?)",
      "provenance": [],
      "authorship_tag": "ABX9TyMvLBOsJegiFOEo0oxN78Kf",
      "include_colab_link": true
    },
    "kernelspec": {
      "name": "python3",
      "display_name": "Python 3"
    },
    "language_info": {
      "name": "python"
    }
  },
  "cells": [
    {
      "cell_type": "markdown",
      "metadata": {
        "id": "view-in-github",
        "colab_type": "text"
      },
      "source": [
        "<a href=\"https://colab.research.google.com/github/pnr-blt/Python-assigments/blob/main/Assignment_008_3_(Is_it_an_Armstrong_Number%3F).ipynb\" target=\"_parent\"><img src=\"https://colab.research.google.com/assets/colab-badge.svg\" alt=\"Open In Colab\"/></a>"
      ]
    },
    {
      "cell_type": "code",
      "metadata": {
        "colab": {
          "base_uri": "https://localhost:8080/"
        },
        "id": "GTsHnu-4BzQV",
        "outputId": "87a56e68-cfe4-458d-dd70-b1776e763097"
      },
      "source": [
        "number = (input(\"Enter a number :\"))\n",
        "n = len(str(number))\n",
        "\n",
        "if not str(number).isdigit() or int(number) <= 0:\n",
        "    print(\" It is an invalid entry. Don't use non-numeric, float, or negative values!\")\n",
        "else:\n",
        "   sum = 0\n",
        "   for i in str(number):\n",
        "     sum =sum + (int(i) ** n)\n",
        "   if sum == int(number):\n",
        "     print(\"{} is an Armstrong number\".format(number))\n",
        "   else :\n",
        "     print(\"{} is not an Armstrong number.\".format(number))"
      ],
      "execution_count": 11,
      "outputs": [
        {
          "output_type": "stream",
          "text": [
            "Enter a number :407\n",
            "407 is an Armstrong number\n"
          ],
          "name": "stdout"
        }
      ]
    },
    {
      "cell_type": "code",
      "metadata": {
        "id": "5EKy-I8WEUwp"
      },
      "source": [
        ""
      ],
      "execution_count": null,
      "outputs": []
    }
  ]
}