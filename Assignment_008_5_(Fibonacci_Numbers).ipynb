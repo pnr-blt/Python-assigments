{
  "nbformat": 4,
  "nbformat_minor": 0,
  "metadata": {
    "colab": {
      "name": "Assignment-008/5 (Fibonacci Numbers)",
      "provenance": [],
      "authorship_tag": "ABX9TyNXXIAdacJg+d3gEsSmb4rk",
      "include_colab_link": true
    },
    "kernelspec": {
      "name": "python3",
      "display_name": "Python 3"
    },
    "language_info": {
      "name": "python"
    }
  },
  "cells": [
    {
      "cell_type": "markdown",
      "metadata": {
        "id": "view-in-github",
        "colab_type": "text"
      },
      "source": [
        "<a href=\"https://colab.research.google.com/github/pnr-blt/Python-assigments/blob/main/Assignment_008_5_(Fibonacci_Numbers).ipynb\" target=\"_parent\"><img src=\"https://colab.research.google.com/assets/colab-badge.svg\" alt=\"Open In Colab\"/></a>"
      ]
    },
    {
      "cell_type": "code",
      "metadata": {
        "colab": {
          "base_uri": "https://localhost:8080/"
        },
        "id": "mKflv8Xftupb",
        "outputId": "ff284de4-8e36-4e84-c67c-da5ef952eb40"
      },
      "source": [
        "\"\"\"Return a list containing the Fibonacci series up to n.\"\"\"\n",
        "n = int(input(\"Enter a number :\"))\n",
        "fibonacci_n = []\n",
        "a, b = 0, 1\n",
        "while a <= n:\n",
        "  fibonacci_n.append(a)  \n",
        "  a, b = b, a+b\n",
        "print(fibonacci_n)"
      ],
      "execution_count": 6,
      "outputs": [
        {
          "output_type": "stream",
          "text": [
            "Enter a number :55\n",
            "[0, 1, 1, 2, 3, 5, 8, 13, 21, 34, 55]\n"
          ],
          "name": "stdout"
        }
      ]
    },
    {
      "cell_type": "code",
      "metadata": {
        "id": "4pyxPZIMt6ir"
      },
      "source": [
        ""
      ],
      "execution_count": null,
      "outputs": []
    }
  ]
}