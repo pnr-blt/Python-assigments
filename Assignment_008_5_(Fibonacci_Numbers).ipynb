{
  "nbformat": 4,
  "nbformat_minor": 0,
  "metadata": {
    "colab": {
      "name": "Assignment-008/5 (Fibonacci Numbers)",
      "provenance": [],
      "authorship_tag": "ABX9TyM849pLALHb9dY1sQjpJrhq",
      "include_colab_link": true
    },
    "kernelspec": {
      "name": "python3",
      "display_name": "Python 3"
    },
    "language_info": {
      "name": "python"
    }
  },
  "cells": [
    {
      "cell_type": "markdown",
      "metadata": {
        "id": "view-in-github",
        "colab_type": "text"
      },
      "source": [
        "<a href=\"https://colab.research.google.com/github/pnr-blt/Python-assigments/blob/main/Assignment_008_5_(Fibonacci_Numbers).ipynb\" target=\"_parent\"><img src=\"https://colab.research.google.com/assets/colab-badge.svg\" alt=\"Open In Colab\"/></a>"
      ]
    },
    {
      "cell_type": "code",
      "metadata": {
        "colab": {
          "base_uri": "https://localhost:8080/"
        },
        "id": "mKflv8Xftupb",
        "outputId": "094f3673-dea7-4ec5-e56a-20acda54bc78"
      },
      "source": [
        "\"\"\"Return a list containing the Fibonacci series up to n.\"\"\"\n",
        "n = 55\n",
        "fibonacci_55 = []\n",
        "a, b = 0, 1\n",
        "while a <= n:\n",
        "  fibonacci_55.append(a)  \n",
        "  a, b = b, a+b\n",
        "print(fibonacci_55)"
      ],
      "execution_count": 5,
      "outputs": [
        {
          "output_type": "stream",
          "text": [
            "[0, 1, 1, 2, 3, 5, 8, 13, 21, 34, 55]\n"
          ],
          "name": "stdout"
        }
      ]
    },
    {
      "cell_type": "code",
      "metadata": {
        "id": "4pyxPZIMt6ir"
      },
      "source": [
        ""
      ],
      "execution_count": null,
      "outputs": []
    }
  ]
}