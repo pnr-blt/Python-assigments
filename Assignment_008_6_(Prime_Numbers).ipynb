{
  "nbformat": 4,
  "nbformat_minor": 0,
  "metadata": {
    "colab": {
      "name": "Assignment-008/6 (Prime Numbers)",
      "provenance": [],
      "authorship_tag": "ABX9TyO4FATdcpaBTVAHOxg7TNHo",
      "include_colab_link": true
    },
    "kernelspec": {
      "name": "python3",
      "display_name": "Python 3"
    },
    "language_info": {
      "name": "python"
    }
  },
  "cells": [
    {
      "cell_type": "markdown",
      "metadata": {
        "id": "view-in-github",
        "colab_type": "text"
      },
      "source": [
        "<a href=\"https://colab.research.google.com/github/pnr-blt/Python-assigments/blob/main/Assignment_008_6_(Prime_Numbers).ipynb\" target=\"_parent\"><img src=\"https://colab.research.google.com/assets/colab-badge.svg\" alt=\"Open In Colab\"/></a>"
      ]
    },
    {
      "cell_type": "markdown",
      "metadata": {
        "id": "-uvxa0IxtP26"
      },
      "source": [
        "Print the prime numbers which are between 1 to entered limit number (n)."
      ]
    },
    {
      "cell_type": "code",
      "metadata": {
        "colab": {
          "base_uri": "https://localhost:8080/"
        },
        "id": "RMiAIB7ftRCd",
        "outputId": "d8802226-4cb5-4d8c-bd46-bddb8e5e932c"
      },
      "source": [
        "n = int(input(\"Enter a number :\"))\n",
        "prime_number = []\n",
        "for i in range(1,(n+1)):\n",
        "  if i > 1 :\n",
        "    for j in range(2, i) :\n",
        "        if (i % j) == 0:\n",
        "            break\n",
        "    else:\n",
        "      prime_number.append(i)\n",
        "print(prime_number)"
      ],
      "execution_count": 28,
      "outputs": [
        {
          "output_type": "stream",
          "text": [
            "Enter a number :5\n",
            "[2, 3, 5]\n"
          ],
          "name": "stdout"
        }
      ]
    },
    {
      "cell_type": "code",
      "metadata": {
        "id": "R4nf6V61e1yJ"
      },
      "source": [
        ""
      ],
      "execution_count": null,
      "outputs": []
    }
  ]
}