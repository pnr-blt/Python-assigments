{
  "nbformat": 4,
  "nbformat_minor": 0,
  "metadata": {
    "colab": {
      "name": "Assignment-008/4 (Is it a Prime Number?)",
      "provenance": [],
      "authorship_tag": "ABX9TyNXoQvArEwfxrBkqJWdfAq8",
      "include_colab_link": true
    },
    "kernelspec": {
      "name": "python3",
      "display_name": "Python 3"
    },
    "language_info": {
      "name": "python"
    }
  },
  "cells": [
    {
      "cell_type": "markdown",
      "metadata": {
        "id": "view-in-github",
        "colab_type": "text"
      },
      "source": [
        "<a href=\"https://colab.research.google.com/github/pnr-blt/Python-assigments/blob/main/Assignment_008_4_(Is_it_a_Prime_Number%3F).ipynb\" target=\"_parent\"><img src=\"https://colab.research.google.com/assets/colab-badge.svg\" alt=\"Open In Colab\"/></a>"
      ]
    },
    {
      "cell_type": "code",
      "metadata": {
        "id": "H-evrP2t9hL7"
      },
      "source": [
        "### Write a program that takes a number from the user and prints the result to check if it is a prime number."
      ],
      "execution_count": null,
      "outputs": []
    },
    {
      "cell_type": "code",
      "metadata": {
        "colab": {
          "base_uri": "https://localhost:8080/"
        },
        "id": "LC4a6utvCVRy",
        "outputId": "e5777244-120d-4235-e104-609670e22247"
      },
      "source": [
        "num = int(input(\"Enter a number: \"))\n",
        "if num > 1:\n",
        "  control = False\n",
        "  for i in range(2,num):\n",
        "    if num % i == 0:\n",
        "      control = True\n",
        "     \n",
        "if control:\n",
        "  print(\"{} is not a prime number\".format(num))\n",
        "else:\n",
        "  print(\"{} is a prime number\".format(num))\n",
        "    "
      ],
      "execution_count": 6,
      "outputs": [
        {
          "output_type": "stream",
          "text": [
            "Enter a number: 2\n",
            "2 is a prime number\n"
          ],
          "name": "stdout"
        }
      ]
    },
    {
      "cell_type": "code",
      "metadata": {
        "id": "1gbSasCkClv-"
      },
      "source": [
        ""
      ],
      "execution_count": null,
      "outputs": []
    }
  ]
}