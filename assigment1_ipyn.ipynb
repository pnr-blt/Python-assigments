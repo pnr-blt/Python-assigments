{
  "nbformat": 4,
  "nbformat_minor": 0,
  "metadata": {
    "colab": {
      "name": "assigment1.ipyn",
      "provenance": [],
      "collapsed_sections": [],
      "authorship_tag": "ABX9TyMNjALjeSMk+B98lgGIFZ3K",
      "include_colab_link": true
    },
    "kernelspec": {
      "name": "python3",
      "display_name": "Python 3"
    },
    "language_info": {
      "name": "python"
    }
  },
  "cells": [
    {
      "cell_type": "markdown",
      "metadata": {
        "id": "view-in-github",
        "colab_type": "text"
      },
      "source": [
        "<a href=\"https://colab.research.google.com/github/pnr-blt/Python-assigments/blob/main/assigment1_ipyn.ipynb\" target=\"_parent\"><img src=\"https://colab.research.google.com/assets/colab-badge.svg\" alt=\"Open In Colab\"/></a>"
      ]
    },
    {
      "cell_type": "markdown",
      "metadata": {
        "id": "zsdXDw0ntE2a"
      },
      "source": [
        "Write a program that\n",
        "\n",
        "Takes the first name from the user and compares it to yours, Then if the name the user entered is the same as yours, print out such as : \"Hello, Joseph! The password is : W@12\", If the name the user entered is not the same as yours, print out such as : \"Hello, Amina! See you later.\""
      ]
    },
    {
      "cell_type": "code",
      "metadata": {
        "id": "tmLNOQ7MtG6X"
      },
      "source": [
        "name = \"Pınar\"\n",
        "user_name = input(\"Enter your first name :\").title().strip()\n",
        "if user_name != name:\n",
        "  print(\"Hello {}! See you later.\".format(user_name))\n",
        "else:\n",
        "  print(\"Hello {}! Your password is : W@12\".format(name))"
      ],
      "execution_count": null,
      "outputs": []
    }
  ]
}