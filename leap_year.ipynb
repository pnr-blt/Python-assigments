{
  "nbformat": 4,
  "nbformat_minor": 0,
  "metadata": {
    "colab": {
      "name": "leap year",
      "provenance": [],
      "authorship_tag": "ABX9TyNuObuSrEdo7FV9XtGq8Z4c",
      "include_colab_link": true
    },
    "kernelspec": {
      "name": "python3",
      "display_name": "Python 3"
    },
    "language_info": {
      "name": "python"
    }
  },
  "cells": [
    {
      "cell_type": "markdown",
      "metadata": {
        "id": "view-in-github",
        "colab_type": "text"
      },
      "source": [
        "<a href=\"https://colab.research.google.com/github/pnr-blt/Python-assigments/blob/main/leap_year.ipynb\" target=\"_parent\"><img src=\"https://colab.research.google.com/assets/colab-badge.svg\" alt=\"Open In Colab\"/></a>"
      ]
    },
    {
      "cell_type": "code",
      "metadata": {
        "colab": {
          "base_uri": "https://localhost:8080/"
        },
        "id": "k7PRlYXzyFnJ",
        "outputId": "127914ae-e6a6-4b83-8ea3-3d9cad760bee"
      },
      "source": [
        "year = input(\"Enter a year to control if it is leap year : \")\n",
        "if int(year) % 100 == 0 and int(year) % 400 == 0 and int(year) % 4 == 0 :\n",
        "  print(\"{} is a leap year.\".format(year))\n",
        "else :\n",
        "  print(\"{} is not a leap year\".format(year))\n"
      ],
      "execution_count": 9,
      "outputs": [
        {
          "output_type": "stream",
          "text": [
            "istediğiniz yılı dört haneli olacak şekilde girin : 2500\n",
            "2500 is not a leap year\n"
          ],
          "name": "stdout"
        }
      ]
    },
    {
      "cell_type": "code",
      "metadata": {
        "colab": {
          "base_uri": "https://localhost:8080/"
        },
        "id": "sfL83OdjGOtR",
        "outputId": "3eeb9d0a-80f7-45f5-9e98-745c15ab7148"
      },
      "source": [
        "year = input(\"Enter a year to control if it is leap year : \")\n",
        "print(\"{} is a leap year.\".format(year)) if int(year) % 100 == 0 and int(year) % 400 == 0 and int(year) % 4 == 0 else print(\"{} is not a leap year\".format(year))"
      ],
      "execution_count": 10,
      "outputs": [
        {
          "output_type": "stream",
          "text": [
            "Enter a year to control if it is leap year : 2500\n",
            "2500 is not a leap year\n"
          ],
          "name": "stdout"
        }
      ]
    },
    {
      "cell_type": "code",
      "metadata": {
        "id": "V6M7Ir_LB02g"
      },
      "source": [
        ""
      ],
      "execution_count": null,
      "outputs": []
    }
  ]
}